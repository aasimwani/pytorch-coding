{
  "nbformat": 4,
  "nbformat_minor": 0,
  "metadata": {
    "colab": {
      "name": "classifying cats vs dogs.ipynb",
      "provenance": [],
      "collapsed_sections": [],
      "include_colab_link": true
    },
    "kernelspec": {
      "name": "python2",
      "display_name": "Python 2"
    }
  },
  "cells": [
    {
      "cell_type": "markdown",
      "metadata": {
        "id": "view-in-github",
        "colab_type": "text"
      },
      "source": [
        "<a href=\"https://colab.research.google.com/github/aasimwani/pytorch-coding/blob/master/classifying_cats_vs_dogs.ipynb\" target=\"_parent\"><img src=\"https://colab.research.google.com/assets/colab-badge.svg\" alt=\"Open In Colab\"/></a>"
      ]
    },
    {
      "cell_type": "code",
      "metadata": {
        "id": "_qgHkH6GGKqe",
        "colab_type": "code",
        "colab": {}
      },
      "source": [
        "#Linear Search \n",
        "Array_1 = [2,1,212,31,41]"
      ],
      "execution_count": 0,
      "outputs": []
    },
    {
      "cell_type": "code",
      "metadata": {
        "id": "M_hnvdZMxiRS",
        "colab_type": "code",
        "colab": {}
      },
      "source": [
        ""
      ],
      "execution_count": 0,
      "outputs": []
    },
    {
      "cell_type": "code",
      "metadata": {
        "id": "kZBRVvFfGJdl",
        "colab_type": "code",
        "colab": {}
      },
      "source": [
        "#Searching\n",
        "def Linear_Search_recursive(array,object,initial,final): \n",
        "  if (array[initial] == object) :\n",
        "    print \"Found at position %d\",i\n",
        "  else:\n",
        "    initial +=1 \n",
        "    if initial != final:\n",
        "      Linear_Search(array,object,initial +1,final)\n",
        "    else:\n",
        "      return \"Not found\"\n",
        "      \n",
        "def Linear_Search_iterative(array,object):\n",
        "  status = \"Not Found\"\n",
        "  for i in range(0,len(array)):\n",
        "    if array[i] == object:\n",
        "      print \"an instance found at %d\",i\n",
        "      break\n",
        "    else:\n",
        "      if status == \"Not Found\" and i == len(array) :\n",
        "        return \"No entry of the object\"\n",
        "      else:\n",
        "        return \"hey\""
      ],
      "execution_count": 0,
      "outputs": []
    },
    {
      "cell_type": "code",
      "metadata": {
        "id": "1Tr5AGDnOTO6",
        "colab_type": "code",
        "outputId": "9b1e77ee-38b0-4339-f11a-f7ddae017364",
        "colab": {
          "base_uri": "https://localhost:8080/",
          "height": 34
        }
      },
      "source": [
        "temp = array[0]\n",
        "for i in range(0,i):\n",
        "  if array[i+1]< array[i] :\n",
        "    "
      ],
      "execution_count": 0,
      "outputs": [
        {
          "output_type": "execute_result",
          "data": {
            "text/plain": [
              "'hey'"
            ]
          },
          "metadata": {
            "tags": []
          },
          "execution_count": 23
        }
      ]
    },
    {
      "cell_type": "code",
      "metadata": {
        "id": "dvad_vzk-Cmq",
        "colab_type": "code",
        "colab": {}
      },
      "source": [
        "#Stacks and Queues\n",
        "#from pythonds.basic.stack import Stack\n",
        "class Stack():\n",
        "  def __init__(self):\n",
        "    self.items = []\n",
        "    \n",
        "  def push(self,object):\n",
        "    self.items.insert(0,object)\n",
        "\n",
        "  def pop(self):\n",
        "    if len(self.items)<1:\n",
        "      return \"Stack Underflow\"\n",
        "    else:\n",
        "      self.items.pop(0)\n",
        "\n",
        "  def isEmpty(self):\n",
        "    self.items == None\n",
        "  \n",
        "  def peak(self):\n",
        "    return self.items\n",
        "  \n",
        "class Queue():\n",
        "  def isEmpty():\n",
        "    self.item == None"
      ],
      "execution_count": 0,
      "outputs": []
    },
    {
      "cell_type": "code",
      "metadata": {
        "id": "A6hRZL5lRdmw",
        "colab_type": "code",
        "colab": {}
      },
      "source": [
        "S = Stack()\n",
        "S.push(2)\n",
        "S.pop()"
      ],
      "execution_count": 0,
      "outputs": []
    },
    {
      "cell_type": "code",
      "metadata": {
        "id": "AIfWa2fPSeAb",
        "colab_type": "code",
        "colab": {}
      },
      "source": [
        "class BinarySearch():\n",
        "  def __init__(self):\n",
        "    self.left = left \n",
        "    self.right = right \n",
        "    self.val = val \n",
        "    \n",
        "  def getVal(self):\n",
        "    return self.val \n",
        "  \n",
        "  def getLeft(self):\n",
        "    return self.left \n",
        "  \n",
        "  def getRight(self):\n",
        "    return self.right \n",
        "  \n",
        "  def setLeft(self,newleft):\n",
        "    self.left = newleft \n",
        "    \n",
        "  def setRigth(self,newRight):\n",
        "    self.right = newleft \n",
        "    \n",
        "  def __iter__(self):\n",
        "    if self.left != None:\n",
        "      for element in self.left:\n",
        "        yield element \n",
        "    \n",
        "    yield self.val\n",
        "    \n",
        "    if self.right != None:\n",
        "      for elements in self.right:\n",
        "        yield elements \n",
        "        \n",
        "  def __init__(self):\n",
        "    self.root = None \n",
        "    \n",
        "  def insert(self,val):\n",
        "    def __insert(root ,val):\n",
        "      if root == None :\n",
        "        return BinarySearchTree._Node(val)\n",
        "      if root < root.getVal():\n",
        "        root.setLeft()\n",
        "      "
      ],
      "execution_count": 0,
      "outputs": []
    },
    {
      "cell_type": "code",
      "metadata": {
        "id": "cYBMziP95HEA",
        "colab_type": "code",
        "colab": {}
      },
      "source": [
        "class ListNode:\n",
        "  def __init__(self,data):\n",
        "    #Constructor to initiate this object \n",
        "    #store data \n",
        "    self.data = data \n",
        "    #store reference \n",
        "    self.next = None \n",
        "    return \n",
        "  \n",
        "  def has_value(self,value):\n",
        "    #Method to compare the value with the node data \n",
        "    if self.data == value:\n",
        "      return True \n",
        "    \n",
        "    if self.data != value:\n",
        "      return False\n",
        "    \n",
        "  def output_list(self):\n",
        "    current_node = self.head \n",
        "    \n",
        "    while current_node is not None:\n",
        "      print (current_node.data)\n",
        "      current_node = current_node.next \n",
        "      \n",
        "    return \n",
        "  \n",
        "  def \n",
        "    \n",
        "    \n",
        "    "
      ],
      "execution_count": 0,
      "outputs": []
    },
    {
      "cell_type": "code",
      "metadata": {
        "id": "TbOC7XC562XZ",
        "colab_type": "code",
        "colab": {}
      },
      "source": [
        "node1 = ListNode(1)\n",
        "node2 = ListNode(12)\n",
        "node3 = ListNode(\"Nothing but jung\")"
      ],
      "execution_count": 0,
      "outputs": []
    },
    {
      "cell_type": "code",
      "metadata": {
        "id": "NKkmN7JK7VQ6",
        "colab_type": "code",
        "colab": {}
      },
      "source": [
        "class HashTable:\n",
        "  def __init__(self):\n",
        "    self.size = 11\n",
        "    self.slots = [None]*self.size \n",
        "    self.data = [None]*self.size \n",
        "    \n",
        "  def push(self,key,data):\n",
        "    hashvalue = self.hashfunction(key,len(self.slots))\n",
        "    "
      ],
      "execution_count": 0,
      "outputs": []
    }
  ]
}